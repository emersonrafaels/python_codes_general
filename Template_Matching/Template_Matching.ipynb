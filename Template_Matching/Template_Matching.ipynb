{
  "cells": [
    {
      "cell_type": "markdown",
      "metadata": {
        "id": "zz0yZg1C8fQR"
      },
      "source": [
        "# Garantindo Python 3.10"
      ]
    },
    {
      "cell_type": "code",
      "execution_count": null,
      "metadata": {
        "id": "Ejip44f_7XnT"
      },
      "outputs": [],
      "source": [
        "!wget https://github.com/korakot/kora/releases/download/v0.11/py311.sh\n",
        "!bash ./py311.sh -b -f -p /usr/local\n",
        "!python3 -m ipykernel install --name \"py311\" --user"
      ]
    },
    {
      "cell_type": "code",
      "execution_count": null,
      "metadata": {
        "id": "OE1HxfMiD1aS"
      },
      "outputs": [],
      "source": [
        "#**Add python version you wish** to list\n",
        "!sudo apt-get update -y\n",
        "!sudo apt-get install python3.11"
      ]
    },
    {
      "cell_type": "code",
      "execution_count": null,
      "metadata": {
        "id": "mXAT8IvMPrGy"
      },
      "outputs": [],
      "source": [
        "from IPython.display import clear_output \n",
        "clear_output()"
      ]
    },
    {
      "cell_type": "code",
      "execution_count": null,
      "metadata": {
        "id": "qBv6eyGDPviG"
      },
      "outputs": [],
      "source": [
        "!sudo update-alternatives --install /usr/bin/python3 python3 /usr/bin/python3.11 0"
      ]
    },
    {
      "cell_type": "code",
      "execution_count": null,
      "metadata": {
        "id": "UMKhjoVjP4UF"
      },
      "outputs": [],
      "source": [
        "# Choose one of the given alternatives:\n",
        "!sudo update-alternatives --config python3"
      ]
    },
    {
      "cell_type": "code",
      "execution_count": null,
      "metadata": {
        "colab": {
          "base_uri": "https://localhost:8080/"
        },
        "id": "9GD7WAvs8oWs",
        "outputId": "bbeae27b-db15-4210-cf69-590474efc8c8"
      },
      "outputs": [
        {
          "name": "stdout",
          "output_type": "stream",
          "text": [
            "Python 3.11.0\n"
          ]
        }
      ],
      "source": [
        "!python3 --version"
      ]
    },
    {
      "cell_type": "markdown",
      "metadata": {
        "id": "OPE6Zt2duE6L"
      },
      "source": [
        "# SWITCH COM PYTHON < 3.10"
      ]
    },
    {
      "cell_type": "code",
      "execution_count": null,
      "metadata": {
        "colab": {
          "base_uri": "https://localhost:8080/"
        },
        "id": "nzoB8e7SlSZW",
        "outputId": "b21652ba-313f-4c21-81cb-e9c92c5c116c"
      },
      "outputs": [
        {
          "name": "stdout",
          "output_type": "stream",
          "text": [
            "O VALOR É 1\n"
          ]
        }
      ],
      "source": [
        "valor = 1\n",
        "\n",
        "if valor == 1:\n",
        "  print(\"O VALOR É 1\")\n",
        "elif valor == 2:\n",
        "  print(\"O VALOR É 2\")\n",
        "else:\n",
        "  print(\"O VALOR NÃO É 1 NEM 2\")"
      ]
    },
    {
      "cell_type": "markdown",
      "metadata": {
        "id": "IYDhw0kBvdh4"
      },
      "source": [
        "# Solução mais pythonica para o SWITCH COM PYTHON < 3.10"
      ]
    },
    {
      "cell_type": "code",
      "execution_count": null,
      "metadata": {
        "id": "hhj-CxuorcGx"
      },
      "outputs": [],
      "source": [
        "valores = {1: \"O valor é 1\", \n",
        "           2: \"O valor é 2\"}"
      ]
    },
    {
      "cell_type": "code",
      "execution_count": null,
      "metadata": {
        "id": "_Ofvepywv5Nn"
      },
      "outputs": [],
      "source": [
        "valor = 3"
      ]
    },
    {
      "cell_type": "code",
      "execution_count": null,
      "metadata": {
        "colab": {
          "base_uri": "https://localhost:8080/"
        },
        "id": "6fyjtvVDv5rO",
        "outputId": "9ea78106-95d7-4447-cf7c-2a3aae83ac18"
      },
      "outputs": [
        {
          "name": "stdout",
          "output_type": "stream",
          "text": [
            "O valor não é 1 e nem 2\n"
          ]
        }
      ],
      "source": [
        "if valor in valores:\n",
        "  print(valores[valor])\n",
        "else:\n",
        "  print(\"O valor não é 1 e nem 2\")"
      ]
    },
    {
      "cell_type": "markdown",
      "metadata": {
        "id": "-5rv61dw3PNl"
      },
      "source": [
        "# Solução usando match"
      ]
    },
    {
      "cell_type": "markdown",
      "metadata": {
        "id": "JmpJMT7CJR32"
      },
      "source": [
        "### Exemplo 01"
      ]
    },
    {
      "cell_type": "code",
      "execution_count": 2,
      "metadata": {
        "colab": {
          "base_uri": "https://localhost:8080/"
        },
        "id": "m3vsWjjDwVZu",
        "outputId": "70891415-23ac-4222-adf5-ce4dbd49e1cf"
      },
      "outputs": [
        {
          "output_type": "stream",
          "name": "stdout",
          "text": [
            "O VALOR É 1\n"
          ]
        }
      ],
      "source": [
        "valor = 1\n",
        "\n",
        "match valor:\n",
        "  case 1:\n",
        "    print(\"O VALOR É 1\")\n",
        "  case 2:\n",
        "    print(\"O VALOR É 2\")\n",
        "  case _:\n",
        "    print(\"O VALOR NÃO É 1 NEM 2\")"
      ]
    },
    {
      "cell_type": "markdown",
      "metadata": {
        "id": "efnAZ8xchdzL"
      },
      "source": [
        "### Exemplo 02"
      ]
    },
    {
      "cell_type": "markdown",
      "metadata": {
        "id": "daxHYKSbo13-"
      },
      "source": [
        "_: Não importa qual o valor"
      ]
    },
    {
      "cell_type": "code",
      "execution_count": 3,
      "metadata": {
        "id": "BLF41qKehsaY"
      },
      "outputs": [],
      "source": [
        "lista = [1, 3, 4]"
      ]
    },
    {
      "cell_type": "code",
      "execution_count": 4,
      "metadata": {
        "colab": {
          "base_uri": "https://localhost:8080/"
        },
        "id": "XhyZnmLhhfIx",
        "outputId": "81344e02-f592-43c3-88c2-7403d5c98fb4"
      },
      "outputs": [
        {
          "output_type": "stream",
          "name": "stdout",
          "text": [
            "1 é o primeiro e os outros dois valores não importam\n"
          ]
        }
      ],
      "source": [
        "match lista:\n",
        "  case [1, 2, 3]:\n",
        "    print(\"Lista da regra\")\n",
        "  case [1, _, _]:\n",
        "    print(\"1 é o primeiro e os outros dois valores não importam\")\n",
        "  case _:\n",
        "    print(\"Não entrou nos casos acima\")"
      ]
    },
    {
      "cell_type": "markdown",
      "metadata": {
        "id": "n3efUC2hJU_u"
      },
      "source": [
        "### Exemplo 03"
      ]
    },
    {
      "cell_type": "code",
      "execution_count": 5,
      "metadata": {
        "colab": {
          "base_uri": "https://localhost:8080/"
        },
        "id": "ORbBQ5tL5aqR",
        "outputId": "24a3716a-0eee-4bc2-ff7a-ae415906198a"
      },
      "outputs": [
        {
          "output_type": "stream",
          "name": "stdout",
          "text": [
            "['2', 7, 5]\n",
            "Inicia com 1 ou 2\n",
            "--------------------------------------------------\n",
            "[]\n",
            "Vazio ou somente com 1\n",
            "--------------------------------------------------\n",
            "[1]\n",
            "Vazio ou somente com 1\n",
            "--------------------------------------------------\n",
            "[1, 10]\n",
            "O primeiro é 1 e o resto=[10]\n",
            "--------------------------------------------------\n"
          ]
        }
      ],
      "source": [
        "for lista in [['2', 7, 5], \n",
        "              [], \n",
        "              [1], \n",
        "              [1, 10]]:\n",
        "\n",
        "  print(lista)\n",
        "\n",
        "  match lista:\n",
        "      case [] | [_]:\n",
        "          print('Vazio ou somente com 1')\n",
        "\n",
        "      case [1, *resto]:\n",
        "          print(f'O primeiro é 1 e o {resto=}')\n",
        "\n",
        "      case [1|'2', _, _] | [_, 1|2, _]:\n",
        "          print('Inicia com 1 ou 2')\n",
        "\n",
        "  print(\"-\"*50)"
      ]
    },
    {
      "cell_type": "markdown",
      "metadata": {
        "id": "V26mp6N0AhYX"
      },
      "source": [
        "### Exemplo 04 - Match com nomes"
      ]
    },
    {
      "cell_type": "markdown",
      "source": [
        "*_: Não importa qual o valor ou quantidade de valores"
      ],
      "metadata": {
        "id": "MVRGJZxOT4Hm"
      }
    },
    {
      "cell_type": "code",
      "execution_count": 2,
      "metadata": {
        "colab": {
          "base_uri": "https://localhost:8080/"
        },
        "id": "YAyhUAoe86TH",
        "outputId": "7564fd0e-9696-4f27-869a-98a39e4557b6"
      },
      "outputs": [
        {
          "output_type": "stream",
          "name": "stdout",
          "text": [
            "(255, 255, 255)\n",
            "Tá muito vermelho!!!!!\n",
            "--------------------------------------------------\n",
            "(200, 255, 255)\n",
            "r=200, g=255, b=255\n",
            "--------------------------------------------------\n",
            "(255, 255, 255, 3)\n",
            "Com alpha: r=255, g=255, b=255, a=3\n",
            "--------------------------------------------------\n",
            "(255, 255, 255, 5, 6)\n",
            "Com alpha e mais: r=255, g=255, b=255, a=5\n",
            "--------------------------------------------------\n"
          ]
        }
      ],
      "source": [
        "for cor in [(255, 255, 255), \n",
        "            (200, 255, 255), \n",
        "            (255, 255, 255, 3), \n",
        "            (255, 255, 255, 5, 6)]:\n",
        "\n",
        "  print(cor)\n",
        "\n",
        "  match cor:\n",
        "      case r, g, b if r == 255:\n",
        "          print(f'Tá muito vermelho!!!!!')\n",
        "      case r, g, b:  # len(3)\n",
        "          print(f'{r=}, {g=}, {b=}')\n",
        "      case r, g, b, a:  # len(4)\n",
        "          print(f'Com alpha: {r=}, {g=}, {b=}, {a=}')\n",
        "      case r, g, b, a, *_:  # len(>=5)\n",
        "          print(f'Com alpha e mais: {r=}, {g=}, {b=}, {a=}')\n",
        "\n",
        "  print(\"-\"*50)"
      ]
    },
    {
      "cell_type": "markdown",
      "source": [
        "### Exemplo 05 - Guards"
      ],
      "metadata": {
        "id": "t-LfEN-IUkRm"
      }
    },
    {
      "cell_type": "code",
      "source": [],
      "metadata": {
        "id": "bBOoWyuZUiAs"
      },
      "execution_count": null,
      "outputs": []
    }
  ],
  "metadata": {
    "colab": {
      "toc_visible": true,
      "provenance": []
    },
    "kernelspec": {
      "display_name": "Python 3",
      "name": "python3"
    },
    "language_info": {
      "name": "python"
    }
  },
  "nbformat": 4,
  "nbformat_minor": 0
}