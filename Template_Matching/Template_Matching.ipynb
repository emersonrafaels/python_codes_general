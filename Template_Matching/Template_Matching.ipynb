{
  "nbformat": 4,
  "nbformat_minor": 0,
  "metadata": {
    "colab": {
      "provenance": [],
      "toc_visible": true
    },
    "kernelspec": {
      "name": "python3",
      "display_name": "Python 3"
    },
    "language_info": {
      "name": "python"
    }
  },
  "cells": [
    {
      "cell_type": "markdown",
      "source": [
        "# Garantindo Python 3.10"
      ],
      "metadata": {
        "id": "zz0yZg1C8fQR"
      }
    },
    {
      "cell_type": "code",
      "source": [
        "!wget https://github.com/korakot/kora/releases/download/v0.11/py311.sh\n",
        "!bash ./py311.sh -b -f -p /usr/local\n",
        "!python3 -m ipykernel install --name \"py311\" --user"
      ],
      "metadata": {
        "id": "Ejip44f_7XnT"
      },
      "execution_count": null,
      "outputs": []
    },
    {
      "cell_type": "code",
      "source": [
        "#**Add python version you wish** to list\n",
        "!sudo apt-get update -y\n",
        "!sudo apt-get install python3.11"
      ],
      "metadata": {
        "id": "OE1HxfMiD1aS"
      },
      "execution_count": null,
      "outputs": []
    },
    {
      "cell_type": "code",
      "source": [
        "from IPython.display import clear_output \n",
        "clear_output()"
      ],
      "metadata": {
        "id": "mXAT8IvMPrGy"
      },
      "execution_count": null,
      "outputs": []
    },
    {
      "cell_type": "code",
      "source": [
        "!sudo update-alternatives --install /usr/bin/python3 python3 /usr/bin/python3.11 0"
      ],
      "metadata": {
        "id": "qBv6eyGDPviG"
      },
      "execution_count": null,
      "outputs": []
    },
    {
      "cell_type": "code",
      "source": [
        "# Choose one of the given alternatives:\n",
        "!sudo update-alternatives --config python3"
      ],
      "metadata": {
        "colab": {
          "base_uri": "https://localhost:8080/"
        },
        "id": "UMKhjoVjP4UF",
        "outputId": "30f24532-9a2e-40a5-e1e4-3e902a047769"
      },
      "execution_count": null,
      "outputs": [
        {
          "output_type": "stream",
          "name": "stdout",
          "text": [
            "There are 3 choices for the alternative python3 (providing /usr/bin/python3).\n",
            "\n",
            "  Selection    Path                 Priority   Status\n",
            "------------------------------------------------------------\n",
            "  0            /usr/bin/python3.8    2         auto mode\n",
            "* 1            /usr/bin/python3.11   0         manual mode\n",
            "  2            /usr/bin/python3.6    1         manual mode\n",
            "  3            /usr/bin/python3.8    2         manual mode\n",
            "\n",
            "Press <enter> to keep the current choice[*], or type selection number: 1\n"
          ]
        }
      ]
    },
    {
      "cell_type": "code",
      "source": [
        "!python3 --version"
      ],
      "metadata": {
        "colab": {
          "base_uri": "https://localhost:8080/"
        },
        "id": "9GD7WAvs8oWs",
        "outputId": "1d4386ae-693a-49c8-f003-f7062e30cf57"
      },
      "execution_count": null,
      "outputs": [
        {
          "output_type": "stream",
          "name": "stdout",
          "text": [
            "Python 3.11.0\n"
          ]
        }
      ]
    },
    {
      "cell_type": "markdown",
      "source": [
        "# SWITCH COM PYTHON < 3.10"
      ],
      "metadata": {
        "id": "OPE6Zt2duE6L"
      }
    },
    {
      "cell_type": "code",
      "execution_count": null,
      "metadata": {
        "id": "nzoB8e7SlSZW",
        "colab": {
          "base_uri": "https://localhost:8080/"
        },
        "outputId": "82d69e7a-929e-430d-e017-fdadbc55142e"
      },
      "outputs": [
        {
          "output_type": "stream",
          "name": "stdout",
          "text": [
            "O VALOR É 1\n"
          ]
        }
      ],
      "source": [
        "valor = 1\n",
        "\n",
        "if valor == 1:\n",
        "  print(\"O VALOR É 1\")\n",
        "elif valor == 2:\n",
        "  print(\"O VALOR É 2\")\n",
        "else:\n",
        "  print(\"O VALOR NÃO É 1 NEM 2\")"
      ]
    },
    {
      "cell_type": "markdown",
      "source": [
        "# Solução mais pythonica para o SWITCH COM PYTHON < 3.10"
      ],
      "metadata": {
        "id": "IYDhw0kBvdh4"
      }
    },
    {
      "cell_type": "code",
      "source": [
        "valores = {1: \"O valor é 1\", \n",
        "           2: \"O valor é 2\"}"
      ],
      "metadata": {
        "id": "hhj-CxuorcGx"
      },
      "execution_count": null,
      "outputs": []
    },
    {
      "cell_type": "code",
      "source": [
        "valor = 3"
      ],
      "metadata": {
        "id": "_Ofvepywv5Nn"
      },
      "execution_count": null,
      "outputs": []
    },
    {
      "cell_type": "code",
      "source": [
        "if valor in valores:\n",
        "  print(valores[valor])\n",
        "else:\n",
        "  print(\"O valor não é 1 e nem 2\")"
      ],
      "metadata": {
        "colab": {
          "base_uri": "https://localhost:8080/"
        },
        "id": "6fyjtvVDv5rO",
        "outputId": "845b2bcb-e539-4d1a-9f02-f424147fde5d"
      },
      "execution_count": null,
      "outputs": [
        {
          "output_type": "stream",
          "name": "stdout",
          "text": [
            "O valor não é 1 e nem 2\n"
          ]
        }
      ]
    },
    {
      "cell_type": "markdown",
      "source": [
        "# Solução usando match"
      ],
      "metadata": {
        "id": "-5rv61dw3PNl"
      }
    },
    {
      "cell_type": "markdown",
      "source": [
        "### Exemplo 01"
      ],
      "metadata": {
        "id": "JmpJMT7CJR32"
      }
    },
    {
      "cell_type": "code",
      "source": [
        "valor = 1\n",
        "\n",
        "match valor:\n",
        "  case 1:\n",
        "    print(\"O VALOR É 1\")\n",
        "  case 2:\n",
        "    print(\"O VALOR É 2\")\n",
        "  case _:\n",
        "    print(\"O VALOR NÃO É 1 NEM 2\")"
      ],
      "metadata": {
        "colab": {
          "base_uri": "https://localhost:8080/"
        },
        "id": "m3vsWjjDwVZu",
        "outputId": "65a96156-b34b-4cce-9156-fa958edc4e5e"
      },
      "execution_count": null,
      "outputs": [
        {
          "output_type": "stream",
          "name": "stdout",
          "text": [
            "O VALOR É 1\n"
          ]
        }
      ]
    },
    {
      "cell_type": "markdown",
      "source": [
        "### Exemplo 02"
      ],
      "metadata": {
        "id": "efnAZ8xchdzL"
      }
    },
    {
      "cell_type": "code",
      "source": [
        "lista = [1, 3, 4]"
      ],
      "metadata": {
        "id": "BLF41qKehsaY"
      },
      "execution_count": null,
      "outputs": []
    },
    {
      "cell_type": "code",
      "source": [
        "match lista:\n",
        "  case [1, 2, 3]:\n",
        "    print(\"Lista da regra\")\n",
        "  case [1, _, _]:\n",
        "    print(\"1 é o primeiro\")\n",
        "  case _:\n",
        "    print(\"Não entrou nos casos acima\")"
      ],
      "metadata": {
        "colab": {
          "base_uri": "https://localhost:8080/"
        },
        "id": "XhyZnmLhhfIx",
        "outputId": "e8bd44e1-b74b-4703-8b8b-be1fdb098264"
      },
      "execution_count": null,
      "outputs": [
        {
          "output_type": "stream",
          "name": "stdout",
          "text": [
            "1 é o primeiro\n"
          ]
        }
      ]
    },
    {
      "cell_type": "markdown",
      "source": [
        "### Exemplo 03"
      ],
      "metadata": {
        "id": "n3efUC2hJU_u"
      }
    },
    {
      "cell_type": "code",
      "source": [
        "for lista in [['2', 7, 5], [], [1], [1, 10]]:\n",
        "\n",
        "  print(lista)\n",
        "\n",
        "  match lista:\n",
        "      case [] | [_]:\n",
        "          print('Vazio ou somente com 1')\n",
        "\n",
        "      case [1, *resto]:\n",
        "          print(f'O primeiro é 1 e o {resto=}')\n",
        "\n",
        "      case [1|'2', _, _] | [_, 1|2, _]:\n",
        "          print('Inicia com 1 ou 2')"
      ],
      "metadata": {
        "colab": {
          "base_uri": "https://localhost:8080/"
        },
        "id": "ORbBQ5tL5aqR",
        "outputId": "3dcc4100-db50-4f26-fd7b-9cd55e3d2fdb"
      },
      "execution_count": null,
      "outputs": [
        {
          "output_type": "stream",
          "name": "stdout",
          "text": [
            "['2', 7, 5]\n",
            "Inicia com 1 ou 2\n",
            "[]\n",
            "Vazio ou somente com 1\n",
            "[1]\n",
            "Vazio ou somente com 1\n",
            "[1, 10]\n",
            "O primeiro é 1 e o resto=[10]\n"
          ]
        }
      ]
    }
  ]
}